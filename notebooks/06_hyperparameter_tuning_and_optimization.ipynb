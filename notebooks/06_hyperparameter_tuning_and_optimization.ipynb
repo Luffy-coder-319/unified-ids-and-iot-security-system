{
 "cells": [
  {
   "cell_type": "markdown",
   "id": "e3123551",
   "metadata": {},
   "source": [
    "# Phase 6 — Hyperparameter Tuning and Optimization\n",
    "\n",
    "Tune classical ML models with RandomizedSearchCV and demonstrate Keras Tuner setup for CNN/LSTM."
   ]
  },
  {
   "cell_type": "code",
   "execution_count": null,
   "id": "e530c3c0",
   "metadata": {},
   "outputs": [],
   "source": [
    "import pandas as pd\n",
    "import joblib\n",
    "from sklearn.model_selection import RandomizedSearchCV\n",
    "from sklearn.ensemble import RandomForestClassifier\n",
    "from xgboost import XGBClassifier\n",
    "from scipy.stats import randint, uniform\n",
    "\n",
    "# Load balanced dataset\n",
    "X = pd.read_csv(\"../data/train_balanced.csv\")\n",
    "y = pd.read_csv(\"../data/train_balanced_labels.csv\", squeeze=True)\n",
    "\n",
    "# ---------------- RF tuning ----------------\n",
    "param_dist_rf = {\n",
    "    'n_estimators': [200, 300, 500],\n",
    "    'max_depth': [10, 20, None],\n",
    "    'min_samples_split': [2, 5, 10]\n",
    "}\n",
    "rf = RandomForestClassifier(random_state=42, n_jobs=-1)\n",
    "search_rf = RandomizedSearchCV(rf, param_dist_rf, n_iter=6, scoring='f1_weighted', cv=3, n_jobs=-1, verbose=2)\n",
    "search_rf.fit(X, y)\n",
    "print(\"Best RF params:\", search_rf.best_params_)\n",
    "joblib.dump(search_rf.best_estimator_, \"../trained_models/final_rf.pkl\")\n",
    "\n",
    "# ---------------- XGB tuning ----------------\n",
    "param_dist_xgb = {\n",
    "    'n_estimators': [200, 300, 500],\n",
    "    'max_depth': [6, 8, 10],\n",
    "    'learning_rate': [0.01, 0.05, 0.1]\n",
    "}\n",
    "xgb = XGBClassifier(use_label_encoder=False, eval_metric='mlogloss', n_jobs=-1, random_state=42)\n",
    "search_xgb = RandomizedSearchCV(xgb, param_dist_xgb, n_iter=6, scoring='f1_weighted', cv=3, n_jobs=-1, verbose=2)\n",
    "search_xgb.fit(X, y)\n",
    "print(\"Best XGB params:\", search_xgb.best_params_)\n",
    "joblib.dump(search_xgb.best_estimator_, \"../trained_models/final_xgb.pkl\")\n",
    "\n",
    "# ---------------- Keras Tuner placeholder for CNN ----------------\n",
    "print(\"For CNN/LSTM tuning use Keras Tuner (example code in comments).\")\n",
    "# Example Keras Tuner usage is left in the notebook for interactive tuning (resource heavy).\n"
   ]
  }
 ],
 "metadata": {},
 "nbformat": 4,
 "nbformat_minor": 5
}
