{
 "cells": [
  {
   "cell_type": "markdown",
   "id": "45248d4e",
   "metadata": {},
   "source": [
    "# Phase 3 — Addressing Class Imbalance\n",
    "\n",
    "Use RandomUnderSampler + SMOTE (pipeline)\n",
    "Balance dataset by reducing majority class first, then applying SMOTE.\n",
    "This keeps dataset size manageable."
   ]
  },
  {
   "cell_type": "code",
   "execution_count": 9,
   "id": "8172b098",
   "metadata": {},
   "outputs": [
    {
     "name": "stdout",
     "output_type": "stream",
     "text": [
      "Original train label distribution:\n",
      " Label_ID\n",
      "0     1817055\n",
      "4      184099\n",
      "10     127043\n",
      "2      102420\n",
      "3        8234\n",
      "7        6348\n",
      "11       4717\n",
      "6        4637\n",
      "5        4399\n",
      "1        1565\n",
      "12       1206\n",
      "14        522\n",
      "9          29\n",
      "13         17\n",
      "8           9\n",
      "Name: count, dtype: int64\n",
      "Original distribution: Counter({0: 1817055, 4: 184099, 10: 127043, 2: 102420, 3: 8234, 7: 6348, 11: 4717, 6: 4637, 5: 4399, 1: 1565, 12: 1206, 14: 522, 9: 29, 13: 17, 8: 9})\n",
      "Target distribution: {0: 100000, 5: 20000, 2: 102420, 7: 20000, 4: 184099, 10: 127043, 12: 20000, 3: 20000, 11: 20000, 6: 20000, 14: 20000, 1: 20000, 13: 20000, 9: 20000, 8: 20000}\n",
      "After resampling: Counter({4: 184099, 10: 127043, 2: 102420, 0: 100000, 1: 20000, 3: 20000, 5: 20000, 6: 20000, 7: 20000, 8: 20000, 9: 20000, 11: 20000, 12: 20000, 13: 20000, 14: 20000})\n",
      "Saved balanced training and test sets.\n"
     ]
    }
   ],
   "source": [
    "from pathlib import Path\n",
    "import pandas as pd\n",
    "from imblearn.over_sampling import SMOTE\n",
    "from imblearn.under_sampling import RandomUnderSampler\n",
    "from imblearn.pipeline import Pipeline\n",
    "from collections import Counter\n",
    "\n",
    "DATA_DIR = Path(\"../data\")\n",
    "PROC_DIR = Path(\"../data/processed/ml_ready\")\n",
    "OUT_DIR = Path(\"../data/processed/ml_balance\")\n",
    "OUT_DIR.mkdir(parents=True, exist_ok=True)\n",
    "\n",
    "# Load standard-scaled training data\n",
    "X_train = pd.read_csv(PROC_DIR / \"X_train_standard.csv\").astype(\"float32\")\n",
    "y_train = pd.read_csv(PROC_DIR / \"y_train.csv\")\n",
    "\n",
    "# Ensure y_train is a Series\n",
    "if y_train.shape[1] == 1:\n",
    "    y_train = y_train.iloc[:, 0]\n",
    "\n",
    "print(\"Original train label distribution:\\n\", y_train.value_counts())\n",
    "print(\"\\nOriginal distribution:\", Counter(y_train))\n",
    "\n",
    "# Strategy: cap BENIGN, boost small classes\n",
    "max_majority = 100_000\n",
    "target_distribution = {}\n",
    "for cls, count in Counter(y_train).items():\n",
    "    if cls == 0:\n",
    "        target_distribution[cls] = min(count, max_majority)\n",
    "    else:\n",
    "        target_distribution[cls] = max(count, 20_000)\n",
    "\n",
    "print(\"Target distribution:\", target_distribution)\n",
    "\n",
    "pipeline = Pipeline([\n",
    "    (\"under\", RandomUnderSampler(sampling_strategy={0: max_majority}, random_state=42)),\n",
    "    (\"smote\", SMOTE(random_state=42, sampling_strategy=target_distribution))\n",
    "])\n",
    "\n",
    "X_res, y_res = pipeline.fit_resample(X_train, y_train)\n",
    "\n",
    "print(\"\\nAfter resampling:\", Counter(y_res))\n",
    "\n",
    "# Save balanced training set\n",
    "pd.DataFrame(X_res, columns=X_train.columns).to_csv(OUT_DIR / \"train_balanced.csv\", index=False)\n",
    "pd.Series(y_res).to_csv(OUT_DIR / \"train_balanced_labels.csv\", index=False)\n",
    "\n",
    "# Also copy over test set\n",
    "X_test = pd.read_csv(PROC_DIR / \"X_test_standard.csv\").astype(\"float32\")\n",
    "y_test = pd.read_csv(PROC_DIR / \"y_test.csv\")\n",
    "if y_test.shape[1] == 1:\n",
    "    y_test = y_test.iloc[:, 0]\n",
    "\n",
    "X_test.to_csv(OUT_DIR / \"test.csv\", index=False)\n",
    "y_test.to_csv(OUT_DIR / \"test_labels.csv\", index=False)\n",
    "\n",
    "print(\"Saved balanced training and test sets.\")\n"
   ]
  },
  {
   "cell_type": "code",
   "execution_count": null,
   "id": "a5f0af95",
   "metadata": {},
   "outputs": [],
   "source": []
  }
 ],
 "metadata": {
  "kernelspec": {
   "display_name": "venv",
   "language": "python",
   "name": "python3"
  },
  "language_info": {
   "codemirror_mode": {
    "name": "ipython",
    "version": 3
   },
   "file_extension": ".py",
   "mimetype": "text/x-python",
   "name": "python",
   "nbconvert_exporter": "python",
   "pygments_lexer": "ipython3",
   "version": "3.11.9"
  }
 },
 "nbformat": 4,
 "nbformat_minor": 5
}
