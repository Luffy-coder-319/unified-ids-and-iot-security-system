{
 "cells": [
  {
   "cell_type": "markdown",
   "id": "45248d4e",
   "metadata": {},
   "source": [
    "# Phase 3 — Addressing Class Imbalance\n",
    "\n",
    "Multiple strategies:\n",
    "1. **Class weights** - Simpler, faster, preserves all real data\n",
    "2. **Moderate SMOTE** - Conservative oversampling for extremely rare classes\n",
    "3. **Focal Loss** - Advanced loss function for deep learning models\n",
    "\n",
    "We'll create variants for different model types."
   ]
  },
  {
   "cell_type": "code",
   "execution_count": 1,
   "id": "8172b098",
   "metadata": {},
   "outputs": [
    {
     "name": "stdout",
     "output_type": "stream",
     "text": [
      "Library successfully loaded\n"
     ]
    }
   ],
   "source": [
    "from pathlib import Path\n",
    "import pandas as pd\n",
    "from imblearn.over_sampling import SMOTE\n",
    "from imblearn.under_sampling import RandomUnderSampler\n",
    "from imblearn.pipeline import Pipeline\n",
    "from collections import Counter\n",
    "from sklearn.utils.class_weight import compute_class_weight\n",
    "import numpy as np\n",
    "import joblib\n",
    "import psutil\n",
    "import gc\n",
    "import matplotlib.pyplot as plt\n",
    "import seaborn as sns\n",
    "\n",
    "print(\"Library successfully loaded\")"
   ]
  },
  {
   "cell_type": "code",
   "execution_count": 4,
   "id": "400bfa4e",
   "metadata": {},
   "outputs": [
    {
     "name": "stdout",
     "output_type": "stream",
     "text": [
      "System RAM: 15.7 GB\n",
      "Available RAM: 6.3 GB\n",
      "Current process memory: 1.92 GB\n"
     ]
    }
   ],
   "source": [
    "# ===================================================================\n",
    "# Memory Optimization Utilities\n",
    "# ===================================================================\n",
    "\n",
    "def get_memory_usage():\n",
    "    \"\"\"Get current memory usage in GB\"\"\"\n",
    "    process = psutil.Process()\n",
    "    return process.memory_info().rss / 1024**3\n",
    "\n",
    "def optimize_dtypes(df):\n",
    "    \"\"\"Reduce memory usage by optimizing data types\"\"\"\n",
    "    print(\"\\nOptimizing data types...\")\n",
    "    start_mem = df.memory_usage(deep=True).sum() / 1024**3\n",
    "    print(f\"  Initial memory: {start_mem:.2f} GB\")\n",
    "    \n",
    "    for col in df.columns:\n",
    "        col_type = df[col].dtype\n",
    "        \n",
    "        if col_type != object:\n",
    "            c_min = df[col].min()\n",
    "            c_max = df[col].max()\n",
    "            \n",
    "            if str(col_type)[:3] == 'int':\n",
    "                if c_min > np.iinfo(np.int8).min and c_max < np.iinfo(np.int8).max:\n",
    "                    df[col] = df[col].astype(np.int8)\n",
    "                elif c_min > np.iinfo(np.int16).min and c_max < np.iinfo(np.int16).max:\n",
    "                    df[col] = df[col].astype(np.int16)\n",
    "                elif c_min > np.iinfo(np.int32).min and c_max < np.iinfo(np.int32).max:\n",
    "                    df[col] = df[col].astype(np.int32)\n",
    "            else:\n",
    "                if c_min > np.finfo(np.float32).min and c_max < np.finfo(np.float32).max:\n",
    "                    df[col] = df[col].astype(np.float32)\n",
    "    \n",
    "    end_mem = df.memory_usage(deep=True).sum() / 1024**3\n",
    "    saved = start_mem - end_mem\n",
    "    print(f\"  Final memory: {end_mem:.2f} GB\")\n",
    "    print(f\"  Saved: {saved:.2f} GB ({100 * saved / start_mem:.1f}%)\")\n",
    "    \n",
    "    return df\n",
    "\n",
    "print(f\"System RAM: {psutil.virtual_memory().total / 1024**3:.1f} GB\")\n",
    "print(f\"Available RAM: {psutil.virtual_memory().available / 1024**3:.1f} GB\")\n",
    "print(f\"Current process memory: {get_memory_usage():.2f} GB\")"
   ]
  },
  {
   "cell_type": "code",
   "execution_count": 5,
   "id": "baefccff",
   "metadata": {},
   "outputs": [
    {
     "name": "stdout",
     "output_type": "stream",
     "text": [
      "Memory before loading: 1.92 GB\n",
      "Loading X_train_standard.csv...\n"
     ]
    },
    {
     "name": "stderr",
     "output_type": "stream",
     "text": [
      "Loading X_train:  33%|███▎      | 5.53G/16.8G [03:41<07:29, 25.0MB/s]\n"
     ]
    },
    {
     "name": "stdout",
     "output_type": "stream",
     "text": [
      "Loaded X_train: (37,349,263 rows, 37 columns)\n",
      "Loaded X_train: (37349263, 37), Memory: 4.97 GB\n",
      "Loaded y_train: 37,349,263 samples\n",
      "Original train label distribution:\n",
      " Label_ID\n",
      "6     5760403\n",
      "14    4329830\n",
      "13    3598134\n",
      "8     3275804\n",
      "10    3247352\n",
      "9     3236228\n",
      "12    2878510\n",
      "21    2654876\n",
      "20    2137156\n",
      "19    1623067\n",
      "1      878556\n",
      "23     793493\n",
      "25     712461\n",
      "24     601346\n",
      "7      361991\n",
      "22     246074\n",
      "15     229540\n",
      "4      228083\n",
      "16     143129\n",
      "26     107502\n",
      "27      78607\n",
      "29      65827\n",
      "18      57491\n",
      "32      29906\n",
      "5       23032\n",
      "11      18741\n",
      "17      10451\n",
      "2        4687\n",
      "3        4327\n",
      "30       4196\n",
      "33       3077\n",
      "0        2574\n",
      "28       1810\n",
      "31       1002\n",
      "Name: count, dtype: int64\n",
      "\n",
      "Original distribution: Counter({6: 5760403, 14: 4329830, 13: 3598134, 8: 3275804, 10: 3247352, 9: 3236228, 12: 2878510, 21: 2654876, 20: 2137156, 19: 1623067, 1: 878556, 23: 793493, 25: 712461, 24: 601346, 7: 361991, 22: 246074, 15: 229540, 4: 228083, 16: 143129, 26: 107502, 27: 78607, 29: 65827, 18: 57491, 32: 29906, 5: 23032, 11: 18741, 17: 10451, 2: 4687, 3: 4327, 30: 4196, 33: 3077, 0: 2574, 28: 1810, 31: 1002})\n"
     ]
    }
   ],
   "source": [
    "DATA_DIR = Path(\"../data\")\n",
    "PROC_DIR = Path(\"../data/processed/ml_ready\")\n",
    "OUT_DIR = Path(\"../data/processed/ml_balance\")\n",
    "OUT_DIR.mkdir(parents=True, exist_ok=True)\n",
    "\n",
    "# Load standard-scaled training data\n",
    "print(f\"Memory before loading: {get_memory_usage():.2f} GB\")\n",
    "# Load X_train with chunked reading and progress bar\n",
    "from tqdm import tqdm\n",
    "\n",
    "file_path = PROC_DIR / \"X_train_standard.csv\"\n",
    "file_size = file_path.stat().st_size\n",
    "chunks = []\n",
    "chunk_size = 1_000_000  # 1 million rows per chunk\n",
    "\n",
    "print(f\"Loading {file_path.name}...\")\n",
    "with tqdm(total=file_size, unit='B', unit_scale=True, desc=\"Loading X_train\") as pbar:\n",
    "    for chunk in pd.read_csv(file_path, dtype=np.float32, chunksize=chunk_size):\n",
    "        chunks.append(chunk)\n",
    "        pbar.update(len(chunk) * len(chunk.columns) * 4)\n",
    "\n",
    "X_train = pd.concat(chunks, ignore_index=True)\n",
    "del chunks\n",
    "gc.collect()\n",
    "print(f\"Loaded X_train: ({X_train.shape[0]:,} rows, {X_train.shape[1]} columns)\")\n",
    "print(f\"Loaded X_train: {X_train.shape}, Memory: {get_memory_usage():.2f} GB\")\n",
    "# Load y_train\n",
    "y_train = pd.read_csv(PROC_DIR / \"y_train.csv\", dtype=np.int16)\n",
    "print(f\"Loaded y_train: {len(y_train):,} samples\")\n",
    "\n",
    "# Ensure y_train is a Series\n",
    "if y_train.shape[1] == 1:\n",
    "    y_train = y_train.iloc[:, 0]\n",
    "\n",
    "print(\"Original train label distribution:\\n\", y_train.value_counts())\n",
    "print(\"\\nOriginal distribution:\", Counter(y_train))\n"
   ]
  },
  {
   "cell_type": "code",
   "execution_count": null,
   "id": "f377d723",
   "metadata": {},
   "outputs": [
    {
     "name": "stdout",
     "output_type": "stream",
     "text": [
      "\n",
      "=== Computing Class Weights ===\n",
      "Class weights:\n",
      "  Class 0: 426.7707\n",
      "  Class 1: 1.2504\n",
      "  Class 2: 234.3733\n",
      "  Class 3: 253.8728\n",
      "  Class 4: 4.8163\n",
      "  Class 5: 47.6948\n",
      "  Class 6: 0.1907\n",
      "  Class 7: 3.0346\n",
      "  Class 8: 0.3353\n",
      "  Class 9: 0.3394\n",
      "  Class 10: 0.3383\n",
      "  Class 11: 58.6152\n",
      "  Class 12: 0.3816\n",
      "  Class 13: 0.3053\n",
      "  Class 14: 0.2537\n",
      "  Class 15: 4.7857\n",
      "  Class 16: 7.6749\n",
      "  Class 17: 105.1103\n",
      "  Class 18: 19.1075\n",
      "  Class 19: 0.6768\n",
      "  Class 20: 0.5140\n",
      "  Class 21: 0.4138\n",
      "  Class 22: 4.4641\n",
      "  Class 23: 1.3844\n",
      "  Class 24: 1.8267\n",
      "  Class 25: 1.5418\n",
      "  Class 26: 10.2185\n",
      "  Class 27: 13.9747\n",
      "  Class 28: 606.9104\n",
      "  Class 29: 16.6878\n",
      "  Class 30: 261.7988\n",
      "  Class 31: 1096.3151\n",
      "  Class 32: 36.7320\n",
      "  Class 33: 357.0061\n",
      "Saved class weights to ..\\data\\processed\\ml_balance\\class_weights.pkl\n"
     ]
    }
   ],
   "source": [
    "\n",
    "# Compute Class Weights (for tree-based models)\n",
    "\n",
    "print(\"\\n=== Computing Class Weights ===\")\n",
    "classes = np.unique(y_train)\n",
    "class_weights = compute_class_weight('balanced', classes=classes, y=y_train)\n",
    "class_weight_dict = dict(zip(classes, class_weights))\n",
    "\n",
    "print(\"Class weights:\")\n",
    "for cls, weight in class_weight_dict.items():\n",
    "    print(f\"  Class {cls}: {weight:.4f}\")\n",
    "\n",
    "# Save class weights\n",
    "joblib.dump(class_weight_dict, OUT_DIR / \"class_weights.pkl\")\n",
    "print(\"Saved class weights to\", OUT_DIR / \"class_weights.pkl\")\n",
    "\n"
   ]
  },
  {
   "cell_type": "code",
   "execution_count": null,
   "id": "d3584253",
   "metadata": {},
   "outputs": [
    {
     "name": "stdout",
     "output_type": "stream",
     "text": [
      "\n",
      "=== Applying Moderate SMOTE ===\n",
      "Memory before SMOTE: 5.05 GB\n",
      "Target distribution (moderate approach): {10: 3247352, 9: 3236228, 14: 4329830, 8: 3275804, 6: 5760403, 12: 2878510, 20: 2137156, 19: 1623067, 21: 2654876, 24: 601346, 25: 712461, 13: 3598134, 1: 878556, 16: 143129, 7: 361991, 27: 78607, 32: 29906, 26: 107502, 4: 228083, 22: 246074, 23: 793493, 15: 229540, 29: 65827, 18: 57491, 5: 23032, 11: 18741, 3: 10000, 2: 10000, 30: 10000, 17: 10451, 31: 10000, 28: 10000, 0: 2574, 33: 10000}\n",
      "\n",
      "After moderate resampling: Counter({6: 5760403, 14: 4329830, 13: 3598134, 8: 3275804, 10: 3247352, 9: 3236228, 12: 2878510, 21: 2654876, 20: 2137156, 19: 1623067, 1: 878556, 23: 793493, 25: 712461, 24: 601346, 7: 361991, 22: 246074, 15: 229540, 4: 228083, 16: 143129, 26: 107502, 27: 78607, 29: 65827, 18: 57491, 32: 29906, 5: 23032, 11: 18741, 17: 10451, 2: 10000, 3: 10000, 28: 10000, 30: 10000, 31: 10000, 33: 10000, 0: 2574})\n",
      "Memory after SMOTE: 2.57 GB\n",
      "Memory after cleanup: 0.17 GB\n"
     ]
    }
   ],
   "source": [
    "# SModerate SMOTE (only for extremely rare classes)\n",
    "print(\"\\n=== Applying Moderate SMOTE ===\")\n",
    "print(f\"Memory before SMOTE: {get_memory_usage():.2f} GB\")\n",
    "# Only boost classes with < 1000 samples to 5000\n",
    "# Cap BENIGN to reduce dominance\n",
    "target_distribution = {}\n",
    "for cls, count in Counter(y_train).items():\n",
    "    if cls == 0:  # BENIGN\n",
    "        target_distribution[cls] = min(count, 200_000)\n",
    "    elif count < 1000:  # Very rare classes\n",
    "        target_distribution[cls] = 5_000\n",
    "    elif count < 10_000:  # Moderately rare\n",
    "        target_distribution[cls] = 10_000\n",
    "    else:  # Keep as is\n",
    "        target_distribution[cls] = count\n",
    "\n",
    "print(\"Target distribution (moderate approach):\", target_distribution)\n",
    "\n",
    "# Apply moderate resampling\n",
    "pipeline = Pipeline([\n",
    "    (\"under\", RandomUnderSampler(sampling_strategy={0: target_distribution[0]}, random_state=42)),\n",
    "    (\"smote\", SMOTE(random_state=42, sampling_strategy=target_distribution, k_neighbors=3))\n",
    "])\n",
    "\n",
    "X_res, y_res = pipeline.fit_resample(X_train, y_train)\n",
    "\n",
    "print(\"\\nAfter moderate resampling:\", Counter(y_res))\n",
    "print(f\"Memory after SMOTE: {get_memory_usage():.2f} GB\")\n",
    "\n",
    "pd.DataFrame(X_res, columns=X_train.columns).to_csv(OUT_DIR / \"train_balanced.csv\", index=False)\n",
    "pd.Series(y_res).to_csv(OUT_DIR / \"train_balanced_labels.csv\", index=False)\n",
    "\n",
    "\n",
    "# Free memory from resampled data\n",
    "del X_res, y_res\n",
    "gc.collect()\n",
    "print(f\"Memory after cleanup: {get_memory_usage():.2f} GB\")"
   ]
  },
  {
   "cell_type": "code",
   "execution_count": null,
   "id": "bcf93f8d",
   "metadata": {},
   "outputs": [
    {
     "name": "stdout",
     "output_type": "stream",
     "text": [
      "=== Saving Original Data (for class weight training) ===\n",
      "Loading X_test_standard.csv...\n"
     ]
    },
    {
     "name": "stderr",
     "output_type": "stream",
     "text": [
      "Loading X_test:  33%|███▎      | 1.38G/4.19G [01:11<02:24, 19.4MB/s]\n"
     ]
    },
    {
     "name": "stdout",
     "output_type": "stream",
     "text": [
      "Loaded X_test: (9337316, 37), Memory: 6.72 GB\n",
      "Loaded y_test: 9,337,316 samples\n",
      "Saved all variants:\n",
      "  - train_original.csv: Use with class_weights\n",
      "  - train_balanced.csv: Use with moderate SMOTE\n",
      "  - class_weights.pkl: For tree-based models\n",
      "  - test.csv: Original test set (never resample!)\n"
     ]
    }
   ],
   "source": [
    "\n",
    "#  Save original training data (for class weight approach)\n",
    "print(\"=== Saving Original Data (for class weight training) ===\")\n",
    "X_train.to_csv(OUT_DIR / \"train_original.csv\", index=False)\n",
    "y_train.to_csv(OUT_DIR / \"train_original_labels.csv\", index=False)\n",
    "\n",
    "# Copy over test set - Load with chunked reading\n",
    "file_path = PROC_DIR / \"X_test_standard.csv\"\n",
    "file_size = file_path.stat().st_size\n",
    "chunks = []\n",
    "chunk_size = 1_000_000\n",
    "\n",
    "print(f\"Loading {file_path.name}...\")\n",
    "with tqdm(total=file_size, unit='B', unit_scale=True, desc=\"Loading X_test\") as pbar:\n",
    "    for chunk in pd.read_csv(file_path, dtype=np.float32, chunksize=chunk_size):\n",
    "        chunks.append(chunk)\n",
    "        pbar.update(len(chunk) * len(chunk.columns) * 4)\n",
    "\n",
    "X_test = pd.concat(chunks, ignore_index=True)\n",
    "del chunks\n",
    "gc.collect()\n",
    "print(f\"Loaded X_test: {X_test.shape}, Memory: {get_memory_usage():.2f} GB\")\n",
    "\n",
    "# Load y_test\n",
    "y_test = pd.read_csv(PROC_DIR / \"y_test.csv\", dtype=np.int16)\n",
    "print(f\"Loaded y_test: {len(y_test):,} samples\")\n",
    "if y_test.shape[1] == 1:\n",
    "    y_test = y_test.iloc[:, 0]\n",
    "\n",
    "X_test.to_csv(OUT_DIR / \"test.csv\", index=False)\n",
    "y_test.to_csv(OUT_DIR / \"test_labels.csv\", index=False)\n",
    "\n",
    "print(\"Saved all variants:\")\n",
    "print(\"  - train_original.csv: Use with class_weights\")\n",
    "print(\"  - train_balanced.csv: Use with moderate SMOTE\")\n",
    "print(\"  - class_weights.pkl: For tree-based models\")\n",
    "print(\"  - test.csv: Original test set (never resample!)\")"
   ]
  },
  {
   "cell_type": "code",
   "execution_count": null,
   "id": "52925dd7",
   "metadata": {},
   "outputs": [
    {
     "name": "stdout",
     "output_type": "stream",
     "text": [
      "\n",
      "=== Creating Focal Loss Implementation ===\n",
      "Saved focal_loss.py for deep learning models\n",
      "\n",
      "Recommendations:\n",
      "  • Tree models (RF/XGB): Use train_original.csv + class_weights\n",
      "  • Deep Learning: Use train_original.csv + focal_loss.py\n",
      "  • Baseline comparison: Use train_balanced.csv\n"
     ]
    }
   ],
   "source": [
    "# Create Focal Loss for Deep Learning\n",
    "focal_loss_code = '''\n",
    "import tensorflow as tf\n",
    "from tensorflow.keras import backend as K\n",
    "\n",
    "def focal_loss(gamma=2.0, alpha=0.25):\n",
    "    \"\"\"\n",
    "    Focal Loss for multi-class classification\n",
    "    \n",
    "    Args:\n",
    "        gamma: Focusing parameter (default 2.0)\n",
    "        alpha: Balancing parameter (default 0.25)\n",
    "    \n",
    "    Returns:\n",
    "        Loss function\n",
    "    \"\"\"\n",
    "    def focal_loss_fixed(y_true, y_pred):\n",
    "        epsilon = K.epsilon()\n",
    "        y_pred = K.clip(y_pred, epsilon, 1.0 - epsilon)\n",
    "        \n",
    "        # Compute cross entropy\n",
    "        cross_entropy = -y_true * K.log(y_pred)\n",
    "        \n",
    "        # Compute focal loss\n",
    "        loss = alpha * K.pow(1 - y_pred, gamma) * cross_entropy\n",
    "        \n",
    "        return K.mean(K.sum(loss, axis=-1))\n",
    "    \n",
    "    return focal_loss_fixed\n",
    "\n",
    "# Usage in model compilation:\n",
    "# model.compile(optimizer='adam', loss=focal_loss(gamma=2.0, alpha=0.25), metrics=['accuracy'])\n",
    "'''\n",
    "\n",
    "with open(OUT_DIR / \"focal_loss.py\", \"w\") as f:\n",
    "    f.write(focal_loss_code)\n",
    "\n",
    "print(\"Saved focal_loss.py for deep learning models\")\n",
    "print(\"\\nRecommendations:\")\n",
    "print(\"  • Tree models (RF/XGB): Use train_original.csv + class_weights\")\n",
    "print(\"  • Deep Learning: Use train_original.csv + focal_loss.py\")\n",
    "print(\"  • Baseline comparison: Use train_balanced.csv\")"
   ]
  },
  {
   "cell_type": "code",
   "execution_count": 12,
   "id": "a5f0af95",
   "metadata": {},
   "outputs": [
    {
     "name": "stdout",
     "output_type": "stream",
     "text": [
      "Loading balanced labels for visualization...\n",
      "Loaded y_res: 37,390,164 samples\n"
     ]
    },
    {
     "data": {
      "image/png": "[encoded data removed]",
      "text/plain": [
       "<Figure size 1600x600 with 2 Axes>"
      ]
     },
     "metadata": {},
     "output_type": "display_data"
    },
    {
     "name": "stdout",
     "output_type": "stream",
     "text": [
      "\n",
      "Summary:\n",
      "Original samples: 37,349,263\n",
      "After SMOTE: 37,390,164\n",
      "Size increase: 0.1%\n"
     ]
    },
    {
     "data": {
      "text/plain": [
       "15572"
      ]
     },
     "execution_count": 12,
     "metadata": {},
     "output_type": "execute_result"
    }
   ],
   "source": [
    "# Visualization: Compare distributions\n",
    "\n",
    "# Load the balanced labels that were saved earlier\n",
    "print(\"Loading balanced labels for visualization...\")\n",
    "y_res = pd.read_csv(OUT_DIR / \"train_balanced_labels.csv\", dtype=np.int16)\n",
    "if y_res.shape[1] == 1:\n",
    "    y_res = y_res.iloc[:, 0]\n",
    "print(f\"Loaded y_res: {len(y_res):,} samples\")\n",
    "\n",
    "fig, axes = plt.subplots(1, 2, figsize=(16, 6))\n",
    "\n",
    "# Original distribution\n",
    "y_train_counts = y_train.value_counts().sort_index()\n",
    "axes[0].bar(y_train_counts.index, y_train_counts.values, color='steelblue')\n",
    "axes[0].set_xlabel('Class')\n",
    "axes[0].set_ylabel('Count')\n",
    "axes[0].set_title('Original Distribution (with class weights)')\n",
    "axes[0].set_yscale('log')\n",
    "axes[0].grid(alpha=0.3)\n",
    "\n",
    "# After moderate SMOTE\n",
    "y_res_counts = pd.Series(y_res).value_counts().sort_index()\n",
    "axes[1].bar(y_res_counts.index, y_res_counts.values, color='coral')\n",
    "axes[1].set_xlabel('Class')\n",
    "axes[1].set_ylabel('Count')\n",
    "axes[1].set_title('After Moderate SMOTE')\n",
    "axes[1].set_yscale('log')\n",
    "axes[1].grid(alpha=0.3)\n",
    "\n",
    "plt.tight_layout()\n",
    "plt.show()\n",
    "\n",
    "print(\"\\nSummary:\")\n",
    "print(f\"Original samples: {len(y_train):,}\")\n",
    "print(f\"After SMOTE: {len(y_res):,}\")\n",
    "print(f\"Size increase: {(len(y_res) / len(y_train) - 1) * 100:.1f}%\")\n",
    "\n",
    "# Clean up\n",
    "del y_res\n",
    "gc.collect()"
   ]
  },
  {
   "cell_type": "code",
   "execution_count": null,
   "id": "b04522b8",
   "metadata": {},
   "outputs": [],
   "source": []
  }
 ],
 "metadata": {
  "kernelspec": {
   "display_name": "myvenv",
   "language": "python",
   "name": "python3"
  },
  "language_info": {
   "codemirror_mode": {
    "name": "ipython",
    "version": 3
   },
   "file_extension": ".py",
   "mimetype": "text/x-python",
   "name": "python",
   "nbconvert_exporter": "python",
   "pygments_lexer": "ipython3",
   "version": "3.11.9"
  }
 },
 "nbformat": 4,
 "nbformat_minor": 5
}
