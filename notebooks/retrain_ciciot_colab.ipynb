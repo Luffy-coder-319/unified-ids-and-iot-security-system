{
 "cells": [
  {
   "cell_type": "code",
   "execution_count": null,
   "id": "ea7c9af0",
   "metadata": {},
   "outputs": [],
   "source": []
  },
  {
   "cell_type": "code",
   "execution_count": null,
   "id": "76f49cde",
   "metadata": {},
   "outputs": [],
   "source": []
  }
 ],
 "metadata": {
  "language_info": {
   "name": "python"
  }
 },
 "nbformat": 4,
 "nbformat_minor": 5
}
